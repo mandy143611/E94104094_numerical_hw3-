{
 "cells": [
  {
   "cell_type": "code",
   "execution_count": 1,
   "id": "f89a5161",
   "metadata": {},
   "outputs": [
    {
     "name": "stdout",
     "output_type": "stream",
     "text": [
      "Predicted position at t=10s: 768.96 feet\n",
      "Predicted speed at t=10s: 74.64 ft/s\n",
      "Car never exceeds 55 mph\n",
      "Predicted maximum speed: 92.04 ft/s at t=4.06 seconds\n"
     ]
    }
   ],
   "source": [
    "import numpy as np\n",
    "import scipy.interpolate as spi\n",
    "\n",
    "# Given data\n",
    "T = np.array([0, 3, 5, 8, 13])  # Time in seconds\n",
    "D = np.array([0, 200, 375, 620, 990])  # Distance in feet\n",
    "V = np.array([75, 77, 80, 74, 72])  # Speed in feet per second\n",
    "\n",
    "# Construct Hermite interpolating polynomial\n",
    "hermite_interp = spi.CubicHermiteSpline(T, D, V)\n",
    "\n",
    "# Part (a) Predict position and speed at t = 10 sec\n",
    "t_target = 10\n",
    "distance_at_10 = hermite_interp(t_target)  # Position\n",
    "speed_at_10 = hermite_interp.derivative()(t_target)  # Speed\n",
    "print(f\"Predicted position at t=10s: {distance_at_10:.2f} feet\")\n",
    "print(f\"Predicted speed at t=10s: {speed_at_10:.2f} ft/s\")\n",
    "\n",
    "# Part (b) Find the first time exceeding 55 mph (convert to ft/s)\n",
    "limit_speed = 55 * 5280 / 3600  # Convert mph to ft/s\n",
    "speed_func = hermite_interp.derivative()\n",
    "\n",
    "# Define a function to find root where speed exceeds limit\n",
    "def speed_exceeds_limit(t):\n",
    "    return speed_func(t) - limit_speed\n",
    "\n",
    "from scipy.optimize import brentq\n",
    "\n",
    "# Find the first time speed exceeds limit within given range\n",
    "t_exceed = None\n",
    "for i in range(len(T) - 1):\n",
    "    if speed_exceeds_limit(T[i]) * speed_exceeds_limit(T[i+1]) < 0:\n",
    "        t_exceed = brentq(speed_exceeds_limit, T[i], T[i+1])\n",
    "        break\n",
    "\n",
    "if t_exceed:\n",
    "    print(f\"Car first exceeds 55 mph at t={t_exceed:.2f} seconds\")\n",
    "else:\n",
    "    print(\"Car never exceeds 55 mph\")\n",
    "\n",
    "# Part (c) Find the maximum speed\n",
    "from scipy.optimize import minimize_scalar\n",
    "\n",
    "res = minimize_scalar(lambda t: -speed_func(t), bounds=(T[0], T[-1]), method='bounded')\n",
    "max_speed = -res.fun\n",
    "max_speed_time = res.x\n",
    "\n",
    "print(f\"Predicted maximum speed: {max_speed:.2f} ft/s at t={max_speed_time:.2f} seconds\")"
   ]
  },
  {
   "cell_type": "code",
   "execution_count": null,
   "id": "4f5f5826",
   "metadata": {},
   "outputs": [],
   "source": []
  }
 ],
 "metadata": {
  "kernelspec": {
   "display_name": "Python 3 (ipykernel)",
   "language": "python",
   "name": "python3"
  },
  "language_info": {
   "codemirror_mode": {
    "name": "ipython",
    "version": 3
   },
   "file_extension": ".py",
   "mimetype": "text/x-python",
   "name": "python",
   "nbconvert_exporter": "python",
   "pygments_lexer": "ipython3",
   "version": "3.9.12"
  }
 },
 "nbformat": 4,
 "nbformat_minor": 5
}
